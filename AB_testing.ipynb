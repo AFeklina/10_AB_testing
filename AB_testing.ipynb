{
 "cells": [
  {
   "cell_type": "markdown",
   "metadata": {},
   "source": [
    "# A/B Testing. Project"
   ]
  },
  {
   "cell_type": "markdown",
   "metadata": {},
   "source": [
    "## Contents\n",
    "<a id='back'></a>\n",
    "\n",
    "* [Introduction](#intro)\n",
    "* [Hypothesis](#hypotheses)\n",
    "    * [Data preparing](#preparing)\n",
    "    * [Hypothesis selection](#hypotheses_selection)\n",
    "* [Data overview and preparing](#data_review)\n",
    "    * [Orders](#orders)\n",
    "    * [Visits](#visits)\n",
    "* [Analysis of A/B test results](#analysis)\n",
    "    * [Total income by groups](#income_by_groups)\n",
    "    * [Cumulative average order size by group](#average_order_size)\n",
    "    * [Relative difference in cumulative average order size](#difference_in_order_size)\n",
    "    * [Conversion rate](#conversion_rate)\n",
    "    * [Orders per user](#orders_per_user)\n",
    "    * [Order size](#order_size)\n",
    "    * [Difference in conversion for the raw data](#difference_in_conversion_raw)\n",
    "    * [Difference in orders for the raw data](#difference_in_orders_raw)\n",
    "    * [Difference in conversion for the filtered data](#difference_in_conversion_filtered)\n",
    "    * [Difference in orders for the filtered data](#difference_in_orders_filtered)\n",
    "* [Conclusions](#conclusions)"
   ]
  },
  {
   "cell_type": "markdown",
   "metadata": {},
   "source": [
    "## Introduction\n",
    "<a id='intro'></a>\n",
    "\n",
    "In this project, a base of hypotheses for increasing the profit of a large online store will be analyzed.\n",
    "As a result of the analysis, a hypothesis will be selected, an A/B test will be conducted and its results will be studied.\n",
    "\n",
    "Stages:\n",
    "1. Prioritization of hypotheses.\n",
    "2. Preprocessing of A/B test data.\n",
    "3. Analysis of test results\n",
    "4. Conclusions\n",
    "\n",
    "[Back to Contents](#back)"
   ]
  },
  {
   "cell_type": "markdown",
   "metadata": {},
   "source": [
    "## Hypothesis\n",
    "<a id='hypotheses'></a>\n",
    "\n",
    "Let's look at the data first."
   ]
  },
  {
   "cell_type": "markdown",
   "metadata": {},
   "source": [
    "### Data preparing\n",
    "<a id='preparing'></a>"
   ]
  },
  {
   "cell_type": "code",
   "execution_count": 1,
   "metadata": {
    "trusted": true
   },
   "outputs": [],
   "source": [
    "# import libraries\n",
    "import pandas as pd\n",
    "import scipy.stats as stats\n",
    "import datetime as dt\n",
    "import numpy as np\n",
    "import matplotlib.pyplot as plt"
   ]
  },
  {
   "cell_type": "code",
   "execution_count": 2,
   "metadata": {
    "trusted": true
   },
   "outputs": [
    {
     "name": "stdout",
     "output_type": "stream",
     "text": [
      "<class 'pandas.core.frame.DataFrame'>\n",
      "RangeIndex: 9 entries, 0 to 8\n",
      "Data columns (total 5 columns):\n",
      " #   Column      Non-Null Count  Dtype \n",
      "---  ------      --------------  ----- \n",
      " 0   Hypothesis  9 non-null      object\n",
      " 1   Reach       9 non-null      int64 \n",
      " 2   Impact      9 non-null      int64 \n",
      " 3   Confidence  9 non-null      int64 \n",
      " 4   Effort      9 non-null      int64 \n",
      "dtypes: int64(4), object(1)\n",
      "memory usage: 488.0+ bytes\n"
     ]
    },
    {
     "data": {
      "text/html": [
       "<div>\n",
       "<style scoped>\n",
       "    .dataframe tbody tr th:only-of-type {\n",
       "        vertical-align: middle;\n",
       "    }\n",
       "\n",
       "    .dataframe tbody tr th {\n",
       "        vertical-align: top;\n",
       "    }\n",
       "\n",
       "    .dataframe thead th {\n",
       "        text-align: right;\n",
       "    }\n",
       "</style>\n",
       "<table border=\"1\" class=\"dataframe\">\n",
       "  <thead>\n",
       "    <tr style=\"text-align: right;\">\n",
       "      <th></th>\n",
       "      <th>Hypothesis</th>\n",
       "      <th>Reach</th>\n",
       "      <th>Impact</th>\n",
       "      <th>Confidence</th>\n",
       "      <th>Effort</th>\n",
       "    </tr>\n",
       "  </thead>\n",
       "  <tbody>\n",
       "    <tr>\n",
       "      <th>0</th>\n",
       "      <td>Add two new channels for attracting traffic. T...</td>\n",
       "      <td>3</td>\n",
       "      <td>10</td>\n",
       "      <td>8</td>\n",
       "      <td>6</td>\n",
       "    </tr>\n",
       "    <tr>\n",
       "      <th>1</th>\n",
       "      <td>Launch your own delivery service. This will sh...</td>\n",
       "      <td>2</td>\n",
       "      <td>5</td>\n",
       "      <td>4</td>\n",
       "      <td>10</td>\n",
       "    </tr>\n",
       "    <tr>\n",
       "      <th>2</th>\n",
       "      <td>Add product recommendation blocks to the store...</td>\n",
       "      <td>8</td>\n",
       "      <td>3</td>\n",
       "      <td>7</td>\n",
       "      <td>3</td>\n",
       "    </tr>\n",
       "    <tr>\n",
       "      <th>3</th>\n",
       "      <td>Change the category structure. This will incre...</td>\n",
       "      <td>8</td>\n",
       "      <td>3</td>\n",
       "      <td>3</td>\n",
       "      <td>8</td>\n",
       "    </tr>\n",
       "    <tr>\n",
       "      <th>4</th>\n",
       "      <td>Change the background color on the main page. ...</td>\n",
       "      <td>3</td>\n",
       "      <td>1</td>\n",
       "      <td>1</td>\n",
       "      <td>1</td>\n",
       "    </tr>\n",
       "  </tbody>\n",
       "</table>\n",
       "</div>"
      ],
      "text/plain": [
       "                                          Hypothesis  Reach  Impact  \\\n",
       "0  Add two new channels for attracting traffic. T...      3      10   \n",
       "1  Launch your own delivery service. This will sh...      2       5   \n",
       "2  Add product recommendation blocks to the store...      8       3   \n",
       "3  Change the category structure. This will incre...      8       3   \n",
       "4  Change the background color on the main page. ...      3       1   \n",
       "\n",
       "   Confidence  Effort  \n",
       "0           8       6  \n",
       "1           4      10  \n",
       "2           7       3  \n",
       "3           3       8  \n",
       "4           1       1  "
      ]
     },
     "execution_count": 2,
     "metadata": {},
     "output_type": "execute_result"
    }
   ],
   "source": [
    "# read `hypotheses_us.csv` and print main info\n",
    "hypotheses = pd.read_csv('/datasets/hypotheses_us.csv', sep=';')\n",
    "hypotheses.info()\n",
    "hypotheses.head()"
   ]
  },
  {
   "cell_type": "markdown",
   "metadata": {},
   "source": [
    "We see:\n",
    "* there are 9 hypotheses,\n",
    "* no missing values,\n",
    "* column types are as expected.\n",
    "\n",
    "Great! Let's remove the capital letters from the column names and let's go."
   ]
  },
  {
   "cell_type": "code",
   "execution_count": 3,
   "metadata": {
    "trusted": true
   },
   "outputs": [
    {
     "data": {
      "text/html": [
       "<div>\n",
       "<style scoped>\n",
       "    .dataframe tbody tr th:only-of-type {\n",
       "        vertical-align: middle;\n",
       "    }\n",
       "\n",
       "    .dataframe tbody tr th {\n",
       "        vertical-align: top;\n",
       "    }\n",
       "\n",
       "    .dataframe thead th {\n",
       "        text-align: right;\n",
       "    }\n",
       "</style>\n",
       "<table border=\"1\" class=\"dataframe\">\n",
       "  <thead>\n",
       "    <tr style=\"text-align: right;\">\n",
       "      <th></th>\n",
       "      <th>hypothesis</th>\n",
       "      <th>reach</th>\n",
       "      <th>impact</th>\n",
       "      <th>confidence</th>\n",
       "      <th>effort</th>\n",
       "    </tr>\n",
       "  </thead>\n",
       "  <tbody>\n",
       "    <tr>\n",
       "      <th>0</th>\n",
       "      <td>Add two new channels for attracting traffic. T...</td>\n",
       "      <td>3</td>\n",
       "      <td>10</td>\n",
       "      <td>8</td>\n",
       "      <td>6</td>\n",
       "    </tr>\n",
       "    <tr>\n",
       "      <th>1</th>\n",
       "      <td>Launch your own delivery service. This will sh...</td>\n",
       "      <td>2</td>\n",
       "      <td>5</td>\n",
       "      <td>4</td>\n",
       "      <td>10</td>\n",
       "    </tr>\n",
       "    <tr>\n",
       "      <th>2</th>\n",
       "      <td>Add product recommendation blocks to the store...</td>\n",
       "      <td>8</td>\n",
       "      <td>3</td>\n",
       "      <td>7</td>\n",
       "      <td>3</td>\n",
       "    </tr>\n",
       "    <tr>\n",
       "      <th>3</th>\n",
       "      <td>Change the category structure. This will incre...</td>\n",
       "      <td>8</td>\n",
       "      <td>3</td>\n",
       "      <td>3</td>\n",
       "      <td>8</td>\n",
       "    </tr>\n",
       "    <tr>\n",
       "      <th>4</th>\n",
       "      <td>Change the background color on the main page. ...</td>\n",
       "      <td>3</td>\n",
       "      <td>1</td>\n",
       "      <td>1</td>\n",
       "      <td>1</td>\n",
       "    </tr>\n",
       "    <tr>\n",
       "      <th>5</th>\n",
       "      <td>Add a customer review page. This will increase...</td>\n",
       "      <td>3</td>\n",
       "      <td>2</td>\n",
       "      <td>2</td>\n",
       "      <td>3</td>\n",
       "    </tr>\n",
       "    <tr>\n",
       "      <th>6</th>\n",
       "      <td>Show banners with current offers and sales on ...</td>\n",
       "      <td>5</td>\n",
       "      <td>3</td>\n",
       "      <td>8</td>\n",
       "      <td>3</td>\n",
       "    </tr>\n",
       "    <tr>\n",
       "      <th>7</th>\n",
       "      <td>Add a subscription form to all the main pages....</td>\n",
       "      <td>10</td>\n",
       "      <td>7</td>\n",
       "      <td>8</td>\n",
       "      <td>5</td>\n",
       "    </tr>\n",
       "    <tr>\n",
       "      <th>8</th>\n",
       "      <td>Launch a promotion that gives users discounts ...</td>\n",
       "      <td>1</td>\n",
       "      <td>9</td>\n",
       "      <td>9</td>\n",
       "      <td>5</td>\n",
       "    </tr>\n",
       "  </tbody>\n",
       "</table>\n",
       "</div>"
      ],
      "text/plain": [
       "                                          hypothesis  reach  impact  \\\n",
       "0  Add two new channels for attracting traffic. T...      3      10   \n",
       "1  Launch your own delivery service. This will sh...      2       5   \n",
       "2  Add product recommendation blocks to the store...      8       3   \n",
       "3  Change the category structure. This will incre...      8       3   \n",
       "4  Change the background color on the main page. ...      3       1   \n",
       "5  Add a customer review page. This will increase...      3       2   \n",
       "6  Show banners with current offers and sales on ...      5       3   \n",
       "7  Add a subscription form to all the main pages....     10       7   \n",
       "8  Launch a promotion that gives users discounts ...      1       9   \n",
       "\n",
       "   confidence  effort  \n",
       "0           8       6  \n",
       "1           4      10  \n",
       "2           7       3  \n",
       "3           3       8  \n",
       "4           1       1  \n",
       "5           2       3  \n",
       "6           8       3  \n",
       "7           8       5  \n",
       "8           9       5  "
      ]
     },
     "execution_count": 3,
     "metadata": {},
     "output_type": "execute_result"
    }
   ],
   "source": [
    "# rename columns in `hypotheses`\n",
    "hypotheses.columns = [name.lower() for name in hypotheses.columns.values]\n",
    "hypotheses"
   ]
  },
  {
   "cell_type": "markdown",
   "metadata": {},
   "source": [
    "Great, done.\n",
    "\n",
    "[Back to Contents](#back)"
   ]
  },
  {
   "cell_type": "markdown",
   "metadata": {},
   "source": [
    "### Hypothesis selection\n",
    "<a id='hypotheses_selection'></a>\n",
    "\n",
    "To select a hypothesis we will use two methods:\n",
    "* `ICE`,\n",
    "* `RICE`.\n",
    "\n",
    "First, let's prioritize hypotheses using the `ICE` method."
   ]
  },
  {
   "cell_type": "markdown",
   "metadata": {},
   "source": [
    "<div class=\"alert alert-warning\"; style=\"border-left: 7px solid gold\">\n",
    "<b>⚠️ Reviewer's comment, v. 1</b> \n",
    "    \n",
    "Here it would be good to display the names of the hypotheses in their entirety, for example like this\n",
    "    \n",
    "     pd.options.display.max_colwidth = 100"
   ]
  },
  {
   "cell_type": "code",
   "execution_count": 4,
   "metadata": {
    "scrolled": true,
    "trusted": true
   },
   "outputs": [
    {
     "data": {
      "text/html": [
       "<div>\n",
       "<style scoped>\n",
       "    .dataframe tbody tr th:only-of-type {\n",
       "        vertical-align: middle;\n",
       "    }\n",
       "\n",
       "    .dataframe tbody tr th {\n",
       "        vertical-align: top;\n",
       "    }\n",
       "\n",
       "    .dataframe thead th {\n",
       "        text-align: right;\n",
       "    }\n",
       "</style>\n",
       "<table border=\"1\" class=\"dataframe\">\n",
       "  <thead>\n",
       "    <tr style=\"text-align: right;\">\n",
       "      <th></th>\n",
       "      <th>hypothesis</th>\n",
       "      <th>reach</th>\n",
       "      <th>impact</th>\n",
       "      <th>confidence</th>\n",
       "      <th>effort</th>\n",
       "      <th>ice</th>\n",
       "    </tr>\n",
       "  </thead>\n",
       "  <tbody>\n",
       "    <tr>\n",
       "      <th>8</th>\n",
       "      <td>Launch a promotion that gives users discounts on their birthdays</td>\n",
       "      <td>1</td>\n",
       "      <td>9</td>\n",
       "      <td>9</td>\n",
       "      <td>5</td>\n",
       "      <td>16.20</td>\n",
       "    </tr>\n",
       "    <tr>\n",
       "      <th>0</th>\n",
       "      <td>Add two new channels for attracting traffic. This will bring 30% more users</td>\n",
       "      <td>3</td>\n",
       "      <td>10</td>\n",
       "      <td>8</td>\n",
       "      <td>6</td>\n",
       "      <td>13.33</td>\n",
       "    </tr>\n",
       "    <tr>\n",
       "      <th>7</th>\n",
       "      <td>Add a subscription form to all the main pages. This will help you compile a mailing list</td>\n",
       "      <td>10</td>\n",
       "      <td>7</td>\n",
       "      <td>8</td>\n",
       "      <td>5</td>\n",
       "      <td>11.20</td>\n",
       "    </tr>\n",
       "    <tr>\n",
       "      <th>6</th>\n",
       "      <td>Show banners with current offers and sales on the main page. This will boost conversion</td>\n",
       "      <td>5</td>\n",
       "      <td>3</td>\n",
       "      <td>8</td>\n",
       "      <td>3</td>\n",
       "      <td>8.00</td>\n",
       "    </tr>\n",
       "    <tr>\n",
       "      <th>2</th>\n",
       "      <td>Add product recommendation blocks to the store's site. This will increase conversion and average purchase size</td>\n",
       "      <td>8</td>\n",
       "      <td>3</td>\n",
       "      <td>7</td>\n",
       "      <td>3</td>\n",
       "      <td>7.00</td>\n",
       "    </tr>\n",
       "    <tr>\n",
       "      <th>1</th>\n",
       "      <td>Launch your own delivery service. This will shorten delivery time</td>\n",
       "      <td>2</td>\n",
       "      <td>5</td>\n",
       "      <td>4</td>\n",
       "      <td>10</td>\n",
       "      <td>2.00</td>\n",
       "    </tr>\n",
       "    <tr>\n",
       "      <th>5</th>\n",
       "      <td>Add a customer review page. This will increase the number of orders</td>\n",
       "      <td>3</td>\n",
       "      <td>2</td>\n",
       "      <td>2</td>\n",
       "      <td>3</td>\n",
       "      <td>1.33</td>\n",
       "    </tr>\n",
       "    <tr>\n",
       "      <th>3</th>\n",
       "      <td>Change the category structure. This will increase conversion since users will find the products they want more quickly</td>\n",
       "      <td>8</td>\n",
       "      <td>3</td>\n",
       "      <td>3</td>\n",
       "      <td>8</td>\n",
       "      <td>1.12</td>\n",
       "    </tr>\n",
       "    <tr>\n",
       "      <th>4</th>\n",
       "      <td>Change the background color on the main page. This will increase user engagement</td>\n",
       "      <td>3</td>\n",
       "      <td>1</td>\n",
       "      <td>1</td>\n",
       "      <td>1</td>\n",
       "      <td>1.00</td>\n",
       "    </tr>\n",
       "  </tbody>\n",
       "</table>\n",
       "</div>"
      ],
      "text/plain": [
       "                                                                                                               hypothesis  \\\n",
       "8                                                        Launch a promotion that gives users discounts on their birthdays   \n",
       "0                                             Add two new channels for attracting traffic. This will bring 30% more users   \n",
       "7                                Add a subscription form to all the main pages. This will help you compile a mailing list   \n",
       "6                                 Show banners with current offers and sales on the main page. This will boost conversion   \n",
       "2          Add product recommendation blocks to the store's site. This will increase conversion and average purchase size   \n",
       "1                                                       Launch your own delivery service. This will shorten delivery time   \n",
       "5                                                     Add a customer review page. This will increase the number of orders   \n",
       "3  Change the category structure. This will increase conversion since users will find the products they want more quickly   \n",
       "4                                        Change the background color on the main page. This will increase user engagement   \n",
       "\n",
       "   reach  impact  confidence  effort    ice  \n",
       "8      1       9           9       5  16.20  \n",
       "0      3      10           8       6  13.33  \n",
       "7     10       7           8       5  11.20  \n",
       "6      5       3           8       3   8.00  \n",
       "2      8       3           7       3   7.00  \n",
       "1      2       5           4      10   2.00  \n",
       "5      3       2           2       3   1.33  \n",
       "3      8       3           3       8   1.12  \n",
       "4      3       1           1       1   1.00  "
      ]
     },
     "execution_count": 4,
     "metadata": {},
     "output_type": "execute_result"
    }
   ],
   "source": [
    "# calculation of `ICE`\n",
    "hypotheses['ice'] = ((hypotheses['impact']\n",
    "                     * hypotheses['confidence']\n",
    "                    ) / hypotheses['effort']).round(2)\n",
    "\n",
    "pd.options.display.max_colwidth = 130\n",
    "\n",
    "hypotheses.sort_values(by='ice', ascending=False)"
   ]
  },
  {
   "cell_type": "markdown",
   "metadata": {},
   "source": [
    "In terms of `ICE`, hypothesis 8 is the leader.\n",
    "Let's see what this hypothesis is."
   ]
  },
  {
   "cell_type": "code",
   "execution_count": 5,
   "metadata": {
    "trusted": true
   },
   "outputs": [
    {
     "name": "stdout",
     "output_type": "stream",
     "text": [
      "Launch a promotion that gives users discounts on their birthdays\n"
     ]
    }
   ],
   "source": [
    "# print hypothesis 8\n",
    "print(hypotheses.hypothesis[8])"
   ]
  },
  {
   "cell_type": "markdown",
   "metadata": {},
   "source": [
    "Now let's use the `RICE` method and see what changes."
   ]
  },
  {
   "cell_type": "code",
   "execution_count": 6,
   "metadata": {
    "trusted": true
   },
   "outputs": [
    {
     "data": {
      "text/html": [
       "<div>\n",
       "<style scoped>\n",
       "    .dataframe tbody tr th:only-of-type {\n",
       "        vertical-align: middle;\n",
       "    }\n",
       "\n",
       "    .dataframe tbody tr th {\n",
       "        vertical-align: top;\n",
       "    }\n",
       "\n",
       "    .dataframe thead th {\n",
       "        text-align: right;\n",
       "    }\n",
       "</style>\n",
       "<table border=\"1\" class=\"dataframe\">\n",
       "  <thead>\n",
       "    <tr style=\"text-align: right;\">\n",
       "      <th></th>\n",
       "      <th>hypothesis</th>\n",
       "      <th>reach</th>\n",
       "      <th>impact</th>\n",
       "      <th>confidence</th>\n",
       "      <th>effort</th>\n",
       "      <th>ice</th>\n",
       "      <th>rice</th>\n",
       "    </tr>\n",
       "  </thead>\n",
       "  <tbody>\n",
       "    <tr>\n",
       "      <th>7</th>\n",
       "      <td>Add a subscription form to all the main pages. This will help you compile a mailing list</td>\n",
       "      <td>10</td>\n",
       "      <td>7</td>\n",
       "      <td>8</td>\n",
       "      <td>5</td>\n",
       "      <td>11.20</td>\n",
       "      <td>112.0</td>\n",
       "    </tr>\n",
       "    <tr>\n",
       "      <th>2</th>\n",
       "      <td>Add product recommendation blocks to the store's site. This will increase conversion and average purchase size</td>\n",
       "      <td>8</td>\n",
       "      <td>3</td>\n",
       "      <td>7</td>\n",
       "      <td>3</td>\n",
       "      <td>7.00</td>\n",
       "      <td>56.0</td>\n",
       "    </tr>\n",
       "    <tr>\n",
       "      <th>0</th>\n",
       "      <td>Add two new channels for attracting traffic. This will bring 30% more users</td>\n",
       "      <td>3</td>\n",
       "      <td>10</td>\n",
       "      <td>8</td>\n",
       "      <td>6</td>\n",
       "      <td>13.33</td>\n",
       "      <td>40.0</td>\n",
       "    </tr>\n",
       "    <tr>\n",
       "      <th>6</th>\n",
       "      <td>Show banners with current offers and sales on the main page. This will boost conversion</td>\n",
       "      <td>5</td>\n",
       "      <td>3</td>\n",
       "      <td>8</td>\n",
       "      <td>3</td>\n",
       "      <td>8.00</td>\n",
       "      <td>40.0</td>\n",
       "    </tr>\n",
       "    <tr>\n",
       "      <th>8</th>\n",
       "      <td>Launch a promotion that gives users discounts on their birthdays</td>\n",
       "      <td>1</td>\n",
       "      <td>9</td>\n",
       "      <td>9</td>\n",
       "      <td>5</td>\n",
       "      <td>16.20</td>\n",
       "      <td>16.2</td>\n",
       "    </tr>\n",
       "    <tr>\n",
       "      <th>3</th>\n",
       "      <td>Change the category structure. This will increase conversion since users will find the products they want more quickly</td>\n",
       "      <td>8</td>\n",
       "      <td>3</td>\n",
       "      <td>3</td>\n",
       "      <td>8</td>\n",
       "      <td>1.12</td>\n",
       "      <td>9.0</td>\n",
       "    </tr>\n",
       "    <tr>\n",
       "      <th>1</th>\n",
       "      <td>Launch your own delivery service. This will shorten delivery time</td>\n",
       "      <td>2</td>\n",
       "      <td>5</td>\n",
       "      <td>4</td>\n",
       "      <td>10</td>\n",
       "      <td>2.00</td>\n",
       "      <td>4.0</td>\n",
       "    </tr>\n",
       "    <tr>\n",
       "      <th>5</th>\n",
       "      <td>Add a customer review page. This will increase the number of orders</td>\n",
       "      <td>3</td>\n",
       "      <td>2</td>\n",
       "      <td>2</td>\n",
       "      <td>3</td>\n",
       "      <td>1.33</td>\n",
       "      <td>4.0</td>\n",
       "    </tr>\n",
       "    <tr>\n",
       "      <th>4</th>\n",
       "      <td>Change the background color on the main page. This will increase user engagement</td>\n",
       "      <td>3</td>\n",
       "      <td>1</td>\n",
       "      <td>1</td>\n",
       "      <td>1</td>\n",
       "      <td>1.00</td>\n",
       "      <td>3.0</td>\n",
       "    </tr>\n",
       "  </tbody>\n",
       "</table>\n",
       "</div>"
      ],
      "text/plain": [
       "                                                                                                               hypothesis  \\\n",
       "7                                Add a subscription form to all the main pages. This will help you compile a mailing list   \n",
       "2          Add product recommendation blocks to the store's site. This will increase conversion and average purchase size   \n",
       "0                                             Add two new channels for attracting traffic. This will bring 30% more users   \n",
       "6                                 Show banners with current offers and sales on the main page. This will boost conversion   \n",
       "8                                                        Launch a promotion that gives users discounts on their birthdays   \n",
       "3  Change the category structure. This will increase conversion since users will find the products they want more quickly   \n",
       "1                                                       Launch your own delivery service. This will shorten delivery time   \n",
       "5                                                     Add a customer review page. This will increase the number of orders   \n",
       "4                                        Change the background color on the main page. This will increase user engagement   \n",
       "\n",
       "   reach  impact  confidence  effort    ice   rice  \n",
       "7     10       7           8       5  11.20  112.0  \n",
       "2      8       3           7       3   7.00   56.0  \n",
       "0      3      10           8       6  13.33   40.0  \n",
       "6      5       3           8       3   8.00   40.0  \n",
       "8      1       9           9       5  16.20   16.2  \n",
       "3      8       3           3       8   1.12    9.0  \n",
       "1      2       5           4      10   2.00    4.0  \n",
       "5      3       2           2       3   1.33    4.0  \n",
       "4      3       1           1       1   1.00    3.0  "
      ]
     },
     "execution_count": 6,
     "metadata": {},
     "output_type": "execute_result"
    }
   ],
   "source": [
    "# calculation of `RICE`\n",
    "hypotheses['rice'] = (hypotheses['reach']\n",
    "                     * hypotheses['impact']\n",
    "                     * hypotheses['confidence']\n",
    "                     ) / hypotheses['effort']\n",
    "hypotheses.sort_values(by='rice', ascending=False)"
   ]
  },
  {
   "cell_type": "markdown",
   "metadata": {},
   "source": [
    "As you can see, the list of five “best” hypotheses has not changed, but their order is now completely different.\n",
    "\n",
    "Here hypothesis 7 is in the lead. Look at it:"
   ]
  },
  {
   "cell_type": "code",
   "execution_count": 7,
   "metadata": {
    "scrolled": true,
    "trusted": true
   },
   "outputs": [
    {
     "name": "stdout",
     "output_type": "stream",
     "text": [
      "Add a subscription form to all the main pages. This will help you compile a mailing list\n"
     ]
    }
   ],
   "source": [
    "# print hypothesis 7\n",
    "print(hypotheses.hypothesis[7])"
   ]
  },
  {
   "cell_type": "markdown",
   "metadata": {},
   "source": [
    "Changes in the prioritization list are due to the fact that different hypotheses cover different numbers of users.   \n",
    "Although hypothesis 7 is good in every way, it will affect a very small number of users. But hypothesis 8 will definitely affect everyone. So let's check it out.\n",
    "\n",
    "Well, let's move on to testing hypotheses\n",
    "\n",
    "[Back to Contents](#back)"
   ]
  },
  {
   "cell_type": "markdown",
   "metadata": {},
   "source": [
    "## Data overview and preparing\n",
    "<a id='data_review'></a>\n",
    "\n",
    "First, let's look at the data and see if there are any problems with it."
   ]
  },
  {
   "cell_type": "markdown",
   "metadata": {},
   "source": [
    "### Orders\n",
    "<a id='orders'></a>"
   ]
  },
  {
   "cell_type": "code",
   "execution_count": 8,
   "metadata": {
    "scrolled": true,
    "trusted": true
   },
   "outputs": [
    {
     "name": "stdout",
     "output_type": "stream",
     "text": [
      "<class 'pandas.core.frame.DataFrame'>\n",
      "RangeIndex: 1197 entries, 0 to 1196\n",
      "Data columns (total 5 columns):\n",
      " #   Column         Non-Null Count  Dtype  \n",
      "---  ------         --------------  -----  \n",
      " 0   transactionId  1197 non-null   int64  \n",
      " 1   visitorId      1197 non-null   int64  \n",
      " 2   date           1197 non-null   object \n",
      " 3   revenue        1197 non-null   float64\n",
      " 4   group          1197 non-null   object \n",
      "dtypes: float64(1), int64(2), object(2)\n",
      "memory usage: 46.9+ KB\n"
     ]
    }
   ],
   "source": [
    "# read `orders_us.csv` and print main info\n",
    "orders = pd.read_csv('/datasets/orders_us.csv')\n",
    "orders.info()"
   ]
  },
  {
   "cell_type": "code",
   "execution_count": 9,
   "metadata": {
    "trusted": true
   },
   "outputs": [],
   "source": [
    "# `date` column to datetime\n",
    "orders['date'] = orders['date'].map(\n",
    "    lambda x: dt.datetime.strptime(x, '%Y-%m-%d')\n",
    ")"
   ]
  },
  {
   "cell_type": "code",
   "execution_count": 10,
   "metadata": {
    "trusted": true
   },
   "outputs": [
    {
     "data": {
      "text/html": [
       "<div>\n",
       "<style scoped>\n",
       "    .dataframe tbody tr th:only-of-type {\n",
       "        vertical-align: middle;\n",
       "    }\n",
       "\n",
       "    .dataframe tbody tr th {\n",
       "        vertical-align: top;\n",
       "    }\n",
       "\n",
       "    .dataframe thead th {\n",
       "        text-align: right;\n",
       "    }\n",
       "</style>\n",
       "<table border=\"1\" class=\"dataframe\">\n",
       "  <thead>\n",
       "    <tr style=\"text-align: right;\">\n",
       "      <th></th>\n",
       "      <th>transaction_id</th>\n",
       "      <th>visitor_id</th>\n",
       "      <th>date</th>\n",
       "      <th>revenue</th>\n",
       "      <th>group</th>\n",
       "    </tr>\n",
       "  </thead>\n",
       "  <tbody>\n",
       "    <tr>\n",
       "      <th>0</th>\n",
       "      <td>3667963787</td>\n",
       "      <td>3312258926</td>\n",
       "      <td>2019-08-15</td>\n",
       "      <td>30.4</td>\n",
       "      <td>B</td>\n",
       "    </tr>\n",
       "    <tr>\n",
       "      <th>1</th>\n",
       "      <td>2804400009</td>\n",
       "      <td>3642806036</td>\n",
       "      <td>2019-08-15</td>\n",
       "      <td>15.2</td>\n",
       "      <td>B</td>\n",
       "    </tr>\n",
       "    <tr>\n",
       "      <th>2</th>\n",
       "      <td>2961555356</td>\n",
       "      <td>4069496402</td>\n",
       "      <td>2019-08-15</td>\n",
       "      <td>10.2</td>\n",
       "      <td>A</td>\n",
       "    </tr>\n",
       "    <tr>\n",
       "      <th>3</th>\n",
       "      <td>3797467345</td>\n",
       "      <td>1196621759</td>\n",
       "      <td>2019-08-15</td>\n",
       "      <td>155.1</td>\n",
       "      <td>B</td>\n",
       "    </tr>\n",
       "    <tr>\n",
       "      <th>4</th>\n",
       "      <td>2282983706</td>\n",
       "      <td>2322279887</td>\n",
       "      <td>2019-08-15</td>\n",
       "      <td>40.5</td>\n",
       "      <td>B</td>\n",
       "    </tr>\n",
       "  </tbody>\n",
       "</table>\n",
       "</div>"
      ],
      "text/plain": [
       "   transaction_id  visitor_id       date  revenue group\n",
       "0      3667963787  3312258926 2019-08-15     30.4     B\n",
       "1      2804400009  3642806036 2019-08-15     15.2     B\n",
       "2      2961555356  4069496402 2019-08-15     10.2     A\n",
       "3      3797467345  1196621759 2019-08-15    155.1     B\n",
       "4      2282983706  2322279887 2019-08-15     40.5     B"
      ]
     },
     "execution_count": 10,
     "metadata": {},
     "output_type": "execute_result"
    }
   ],
   "source": [
    "# rename columns in `orders`\n",
    "orders.columns = [\n",
    "    'transaction_id',\n",
    "    'visitor_id',\n",
    "    'date',\n",
    "    'revenue',\n",
    "    'group'\n",
    "]\n",
    "orders.head()"
   ]
  },
  {
   "cell_type": "code",
   "execution_count": 11,
   "metadata": {
    "trusted": true
   },
   "outputs": [
    {
     "name": "stdout",
     "output_type": "stream",
     "text": [
      "<class 'pandas.core.frame.DataFrame'>\n",
      "RangeIndex: 1197 entries, 0 to 1196\n",
      "Data columns (total 5 columns):\n",
      " #   Column          Non-Null Count  Dtype         \n",
      "---  ------          --------------  -----         \n",
      " 0   transaction_id  1197 non-null   int64         \n",
      " 1   visitor_id      1197 non-null   int64         \n",
      " 2   date            1197 non-null   datetime64[ns]\n",
      " 3   revenue         1197 non-null   float64       \n",
      " 4   group           1197 non-null   object        \n",
      "dtypes: datetime64[ns](1), float64(1), int64(2), object(1)\n",
      "memory usage: 46.9+ KB\n",
      "\n",
      "Duplicated rows in the `orders`: 0\n",
      "\n",
      "Duplicated `transaction_id` in the `orders`: 0\n",
      "\n",
      "Earliest order: 2019-08-01 00:00:00\n",
      "\n",
      "Latest order: 2019-08-31 00:00:00\n",
      "\n"
     ]
    },
    {
     "data": {
      "text/html": [
       "<div>\n",
       "<style scoped>\n",
       "    .dataframe tbody tr th:only-of-type {\n",
       "        vertical-align: middle;\n",
       "    }\n",
       "\n",
       "    .dataframe tbody tr th {\n",
       "        vertical-align: top;\n",
       "    }\n",
       "\n",
       "    .dataframe thead th {\n",
       "        text-align: right;\n",
       "    }\n",
       "</style>\n",
       "<table border=\"1\" class=\"dataframe\">\n",
       "  <thead>\n",
       "    <tr style=\"text-align: right;\">\n",
       "      <th></th>\n",
       "      <th>transaction_id</th>\n",
       "      <th>visitor_id</th>\n",
       "      <th>date</th>\n",
       "      <th>revenue</th>\n",
       "      <th>group</th>\n",
       "    </tr>\n",
       "  </thead>\n",
       "  <tbody>\n",
       "    <tr>\n",
       "      <th>0</th>\n",
       "      <td>3667963787</td>\n",
       "      <td>3312258926</td>\n",
       "      <td>2019-08-15</td>\n",
       "      <td>30.4</td>\n",
       "      <td>B</td>\n",
       "    </tr>\n",
       "    <tr>\n",
       "      <th>1</th>\n",
       "      <td>2804400009</td>\n",
       "      <td>3642806036</td>\n",
       "      <td>2019-08-15</td>\n",
       "      <td>15.2</td>\n",
       "      <td>B</td>\n",
       "    </tr>\n",
       "    <tr>\n",
       "      <th>2</th>\n",
       "      <td>2961555356</td>\n",
       "      <td>4069496402</td>\n",
       "      <td>2019-08-15</td>\n",
       "      <td>10.2</td>\n",
       "      <td>A</td>\n",
       "    </tr>\n",
       "    <tr>\n",
       "      <th>3</th>\n",
       "      <td>3797467345</td>\n",
       "      <td>1196621759</td>\n",
       "      <td>2019-08-15</td>\n",
       "      <td>155.1</td>\n",
       "      <td>B</td>\n",
       "    </tr>\n",
       "    <tr>\n",
       "      <th>4</th>\n",
       "      <td>2282983706</td>\n",
       "      <td>2322279887</td>\n",
       "      <td>2019-08-15</td>\n",
       "      <td>40.5</td>\n",
       "      <td>B</td>\n",
       "    </tr>\n",
       "  </tbody>\n",
       "</table>\n",
       "</div>"
      ],
      "text/plain": [
       "   transaction_id  visitor_id       date  revenue group\n",
       "0      3667963787  3312258926 2019-08-15     30.4     B\n",
       "1      2804400009  3642806036 2019-08-15     15.2     B\n",
       "2      2961555356  4069496402 2019-08-15     10.2     A\n",
       "3      3797467345  1196621759 2019-08-15    155.1     B\n",
       "4      2282983706  2322279887 2019-08-15     40.5     B"
      ]
     },
     "execution_count": 11,
     "metadata": {},
     "output_type": "execute_result"
    }
   ],
   "source": [
    "# print more info about `orders`\n",
    "orders.info()\n",
    "print()\n",
    "print('Duplicated rows in the `orders`:', orders.duplicated().sum())\n",
    "print()\n",
    "print('Duplicated `transaction_id` in the `orders`:', orders.transaction_id.duplicated().sum())\n",
    "print()\n",
    "print('Earliest order:', orders.date.min())\n",
    "print()\n",
    "print('Latest order:', orders.date.max())\n",
    "print()\n",
    "orders.head()"
   ]
  },
  {
   "cell_type": "markdown",
   "metadata": {},
   "source": [
    "Now let's find out if there are errors in dividing users into groups."
   ]
  },
  {
   "cell_type": "code",
   "execution_count": 12,
   "metadata": {
    "trusted": true
   },
   "outputs": [
    {
     "data": {
      "text/plain": [
       "1    973\n",
       "2     58\n",
       "Name: group, dtype: int64"
      ]
     },
     "execution_count": 12,
     "metadata": {},
     "output_type": "execute_result"
    }
   ],
   "source": [
    "# check errors in dividing into groups\n",
    "orders.groupby('visitor_id')['group'].nunique().value_counts()"
   ]
  },
  {
   "cell_type": "markdown",
   "metadata": {},
   "source": [
    "Wow, there really are a lot of mistakes. Unfortunately, we will not be able to find out details about these users as part of this project, so we will have to delete all orders from these users."
   ]
  },
  {
   "cell_type": "code",
   "execution_count": 13,
   "metadata": {
    "trusted": true
   },
   "outputs": [],
   "source": [
    "# remove users with errors in dividing\n",
    "count_of_groups = orders.groupby('visitor_id')['group'].nunique()\n",
    "list_of_errors = count_of_groups[count_of_groups == 2].index"
   ]
  },
  {
   "cell_type": "code",
   "execution_count": 14,
   "metadata": {
    "trusted": true
   },
   "outputs": [
    {
     "data": {
      "text/html": [
       "<div>\n",
       "<style scoped>\n",
       "    .dataframe tbody tr th:only-of-type {\n",
       "        vertical-align: middle;\n",
       "    }\n",
       "\n",
       "    .dataframe tbody tr th {\n",
       "        vertical-align: top;\n",
       "    }\n",
       "\n",
       "    .dataframe thead th {\n",
       "        text-align: right;\n",
       "    }\n",
       "</style>\n",
       "<table border=\"1\" class=\"dataframe\">\n",
       "  <thead>\n",
       "    <tr style=\"text-align: right;\">\n",
       "      <th></th>\n",
       "      <th>transaction_id</th>\n",
       "      <th>visitor_id</th>\n",
       "      <th>date</th>\n",
       "      <th>revenue</th>\n",
       "      <th>group</th>\n",
       "    </tr>\n",
       "  </thead>\n",
       "  <tbody>\n",
       "    <tr>\n",
       "      <th>0</th>\n",
       "      <td>3667963787</td>\n",
       "      <td>3312258926</td>\n",
       "      <td>2019-08-15</td>\n",
       "      <td>30.4</td>\n",
       "      <td>B</td>\n",
       "    </tr>\n",
       "    <tr>\n",
       "      <th>1</th>\n",
       "      <td>2804400009</td>\n",
       "      <td>3642806036</td>\n",
       "      <td>2019-08-15</td>\n",
       "      <td>15.2</td>\n",
       "      <td>B</td>\n",
       "    </tr>\n",
       "    <tr>\n",
       "      <th>3</th>\n",
       "      <td>3797467345</td>\n",
       "      <td>1196621759</td>\n",
       "      <td>2019-08-15</td>\n",
       "      <td>155.1</td>\n",
       "      <td>B</td>\n",
       "    </tr>\n",
       "    <tr>\n",
       "      <th>4</th>\n",
       "      <td>2282983706</td>\n",
       "      <td>2322279887</td>\n",
       "      <td>2019-08-15</td>\n",
       "      <td>40.5</td>\n",
       "      <td>B</td>\n",
       "    </tr>\n",
       "    <tr>\n",
       "      <th>5</th>\n",
       "      <td>182168103</td>\n",
       "      <td>935554773</td>\n",
       "      <td>2019-08-15</td>\n",
       "      <td>35.0</td>\n",
       "      <td>B</td>\n",
       "    </tr>\n",
       "    <tr>\n",
       "      <th>...</th>\n",
       "      <td>...</td>\n",
       "      <td>...</td>\n",
       "      <td>...</td>\n",
       "      <td>...</td>\n",
       "      <td>...</td>\n",
       "    </tr>\n",
       "    <tr>\n",
       "      <th>1191</th>\n",
       "      <td>3592955527</td>\n",
       "      <td>608641596</td>\n",
       "      <td>2019-08-14</td>\n",
       "      <td>255.7</td>\n",
       "      <td>B</td>\n",
       "    </tr>\n",
       "    <tr>\n",
       "      <th>1192</th>\n",
       "      <td>2662137336</td>\n",
       "      <td>3733762160</td>\n",
       "      <td>2019-08-14</td>\n",
       "      <td>100.8</td>\n",
       "      <td>B</td>\n",
       "    </tr>\n",
       "    <tr>\n",
       "      <th>1193</th>\n",
       "      <td>2203539145</td>\n",
       "      <td>370388673</td>\n",
       "      <td>2019-08-14</td>\n",
       "      <td>50.1</td>\n",
       "      <td>A</td>\n",
       "    </tr>\n",
       "    <tr>\n",
       "      <th>1194</th>\n",
       "      <td>1807773912</td>\n",
       "      <td>573423106</td>\n",
       "      <td>2019-08-14</td>\n",
       "      <td>165.3</td>\n",
       "      <td>A</td>\n",
       "    </tr>\n",
       "    <tr>\n",
       "      <th>1196</th>\n",
       "      <td>3936777065</td>\n",
       "      <td>2108080724</td>\n",
       "      <td>2019-08-15</td>\n",
       "      <td>3120.1</td>\n",
       "      <td>B</td>\n",
       "    </tr>\n",
       "  </tbody>\n",
       "</table>\n",
       "<p>1016 rows × 5 columns</p>\n",
       "</div>"
      ],
      "text/plain": [
       "      transaction_id  visitor_id       date  revenue group\n",
       "0         3667963787  3312258926 2019-08-15     30.4     B\n",
       "1         2804400009  3642806036 2019-08-15     15.2     B\n",
       "3         3797467345  1196621759 2019-08-15    155.1     B\n",
       "4         2282983706  2322279887 2019-08-15     40.5     B\n",
       "5          182168103   935554773 2019-08-15     35.0     B\n",
       "...              ...         ...        ...      ...   ...\n",
       "1191      3592955527   608641596 2019-08-14    255.7     B\n",
       "1192      2662137336  3733762160 2019-08-14    100.8     B\n",
       "1193      2203539145   370388673 2019-08-14     50.1     A\n",
       "1194      1807773912   573423106 2019-08-14    165.3     A\n",
       "1196      3936777065  2108080724 2019-08-15   3120.1     B\n",
       "\n",
       "[1016 rows x 5 columns]"
      ]
     },
     "execution_count": 14,
     "metadata": {},
     "output_type": "execute_result"
    }
   ],
   "source": [
    "orders = orders[~orders['visitor_id'].isin(list_of_errors)]\n",
    "orders"
   ]
  },
  {
   "cell_type": "markdown",
   "metadata": {},
   "source": [
    "Let's check if we have removed all the errors."
   ]
  },
  {
   "cell_type": "code",
   "execution_count": 15,
   "metadata": {
    "trusted": true
   },
   "outputs": [
    {
     "data": {
      "text/plain": [
       "1    973\n",
       "Name: group, dtype: int64"
      ]
     },
     "execution_count": 15,
     "metadata": {},
     "output_type": "execute_result"
    }
   ],
   "source": [
    "# check errors in dividing into groups\n",
    "orders.groupby('visitor_id')['group'].nunique().value_counts()"
   ]
  },
  {
   "cell_type": "markdown",
   "metadata": {},
   "source": [
    "Yes, all."
   ]
  },
  {
   "cell_type": "markdown",
   "metadata": {},
   "source": [
    "So we:\n",
    "* renamed the columns,\n",
    "* checked that there are no missing values in the table,\n",
    "* checked that there are no duplicates,\n",
    "* fixed the erroneous dividing of users into groups,\n",
    "* found out the timing of the experiment (all orders were made during August 2019).\n",
    "\n",
    "Great, we can move on to `visits`.\n",
    "\n",
    "[Back to Contents](#back)"
   ]
  },
  {
   "cell_type": "markdown",
   "metadata": {},
   "source": [
    "### Visits\n",
    "<a id='visits'></a>"
   ]
  },
  {
   "cell_type": "code",
   "execution_count": 16,
   "metadata": {
    "trusted": true
   },
   "outputs": [
    {
     "name": "stdout",
     "output_type": "stream",
     "text": [
      "<class 'pandas.core.frame.DataFrame'>\n",
      "RangeIndex: 62 entries, 0 to 61\n",
      "Data columns (total 3 columns):\n",
      " #   Column  Non-Null Count  Dtype \n",
      "---  ------  --------------  ----- \n",
      " 0   date    62 non-null     object\n",
      " 1   group   62 non-null     object\n",
      " 2   visits  62 non-null     int64 \n",
      "dtypes: int64(1), object(2)\n",
      "memory usage: 1.6+ KB\n"
     ]
    }
   ],
   "source": [
    "# read `visits_us.csv` and print main info\n",
    "visits = pd.read_csv('/datasets/visits_us.csv')\n",
    "visits.info()"
   ]
  },
  {
   "cell_type": "code",
   "execution_count": 17,
   "metadata": {
    "scrolled": true,
    "trusted": true
   },
   "outputs": [],
   "source": [
    "# `date` column to datetime\n",
    "visits['date'] = visits['date'].map(\n",
    "    lambda x: dt.datetime.strptime(x, '%Y-%m-%d')\n",
    ")"
   ]
  },
  {
   "cell_type": "code",
   "execution_count": 18,
   "metadata": {
    "trusted": true
   },
   "outputs": [
    {
     "name": "stdout",
     "output_type": "stream",
     "text": [
      "<class 'pandas.core.frame.DataFrame'>\n",
      "RangeIndex: 62 entries, 0 to 61\n",
      "Data columns (total 3 columns):\n",
      " #   Column  Non-Null Count  Dtype         \n",
      "---  ------  --------------  -----         \n",
      " 0   date    62 non-null     datetime64[ns]\n",
      " 1   group   62 non-null     object        \n",
      " 2   visits  62 non-null     int64         \n",
      "dtypes: datetime64[ns](1), int64(1), object(1)\n",
      "memory usage: 1.6+ KB\n",
      "\n",
      "Duplicated rows in the `visits`: 0\n",
      "\n",
      "Earliest visit: 2019-08-01 00:00:00\n",
      "\n",
      "Latest visit: 2019-08-31 00:00:00\n",
      "\n"
     ]
    },
    {
     "data": {
      "text/html": [
       "<div>\n",
       "<style scoped>\n",
       "    .dataframe tbody tr th:only-of-type {\n",
       "        vertical-align: middle;\n",
       "    }\n",
       "\n",
       "    .dataframe tbody tr th {\n",
       "        vertical-align: top;\n",
       "    }\n",
       "\n",
       "    .dataframe thead th {\n",
       "        text-align: right;\n",
       "    }\n",
       "</style>\n",
       "<table border=\"1\" class=\"dataframe\">\n",
       "  <thead>\n",
       "    <tr style=\"text-align: right;\">\n",
       "      <th></th>\n",
       "      <th>date</th>\n",
       "      <th>group</th>\n",
       "      <th>visits</th>\n",
       "    </tr>\n",
       "  </thead>\n",
       "  <tbody>\n",
       "    <tr>\n",
       "      <th>0</th>\n",
       "      <td>2019-08-01</td>\n",
       "      <td>A</td>\n",
       "      <td>719</td>\n",
       "    </tr>\n",
       "    <tr>\n",
       "      <th>1</th>\n",
       "      <td>2019-08-02</td>\n",
       "      <td>A</td>\n",
       "      <td>619</td>\n",
       "    </tr>\n",
       "    <tr>\n",
       "      <th>2</th>\n",
       "      <td>2019-08-03</td>\n",
       "      <td>A</td>\n",
       "      <td>507</td>\n",
       "    </tr>\n",
       "    <tr>\n",
       "      <th>3</th>\n",
       "      <td>2019-08-04</td>\n",
       "      <td>A</td>\n",
       "      <td>717</td>\n",
       "    </tr>\n",
       "    <tr>\n",
       "      <th>4</th>\n",
       "      <td>2019-08-05</td>\n",
       "      <td>A</td>\n",
       "      <td>756</td>\n",
       "    </tr>\n",
       "  </tbody>\n",
       "</table>\n",
       "</div>"
      ],
      "text/plain": [
       "        date group  visits\n",
       "0 2019-08-01     A     719\n",
       "1 2019-08-02     A     619\n",
       "2 2019-08-03     A     507\n",
       "3 2019-08-04     A     717\n",
       "4 2019-08-05     A     756"
      ]
     },
     "execution_count": 18,
     "metadata": {},
     "output_type": "execute_result"
    }
   ],
   "source": [
    "# print more info about `visits`\n",
    "visits.info()\n",
    "print()\n",
    "print('Duplicated rows in the `visits`:', visits.duplicated().sum())\n",
    "print()\n",
    "print('Earliest visit:', visits.date.min())\n",
    "print()\n",
    "print('Latest visit:', visits.date.max())\n",
    "print()\n",
    "visits.head()"
   ]
  },
  {
   "cell_type": "code",
   "execution_count": 19,
   "metadata": {
    "trusted": true
   },
   "outputs": [
    {
     "name": "stdout",
     "output_type": "stream",
     "text": [
      "['A' 'B']\n"
     ]
    },
    {
     "data": {
      "text/plain": [
       "2    31\n",
       "Name: group, dtype: int64"
      ]
     },
     "execution_count": 19,
     "metadata": {},
     "output_type": "execute_result"
    }
   ],
   "source": [
    "# check errors in dividing into groups\n",
    "print(visits.group.unique())\n",
    "visits.groupby('date')['group'].nunique().value_counts()"
   ]
  },
  {
   "cell_type": "markdown",
   "metadata": {},
   "source": [
    "Unfortunately, we will not be able to take into account remote visitors here, since we have nowhere to get additional information about errors.\n",
    "\n",
    "But at least we checked that there are no other errors:\n",
    "* the date range in the two files is the same,\n",
    "* no duplicates or missing values,\n",
    "* for each day of the month there is data for groups A and B, that is, the data is correct.\n",
    "\n",
    "[Back to Contents](#back)"
   ]
  },
  {
   "cell_type": "markdown",
   "metadata": {},
   "source": [
    "## Analysis of A/B test results\n",
    "<a id='analysis'></a>\n",
    "\n",
    "Well, let's move on to the analysis."
   ]
  },
  {
   "cell_type": "markdown",
   "metadata": {},
   "source": [
    "### Total income by groups\n",
    "<a id='income_by_groups'></a>\n",
    "\n",
    "Let's see how total income changes by group over time."
   ]
  },
  {
   "cell_type": "code",
   "execution_count": 20,
   "metadata": {
    "trusted": true
   },
   "outputs": [],
   "source": [
    "# create a list of dates\n",
    "datesGroups = orders[['date', 'group']].drop_duplicates()\n",
    "\n",
    "# create a list with aggregated sum of orders\n",
    "ordersAggregated = datesGroups.apply(\n",
    "    lambda x: orders[\n",
    "        np.logical_and(\n",
    "            orders['date'] <= x['date'], orders['group'] == x['group']\n",
    "        )\n",
    "    ].agg(\n",
    "        {\n",
    "            'date': 'max',\n",
    "            'group': 'max',\n",
    "            'transaction_id': pd.Series.nunique,\n",
    "            'visitor_id': pd.Series.nunique,\n",
    "            'revenue': 'sum',\n",
    "        }\n",
    "    ),\n",
    "    axis=1,\n",
    ").sort_values(by=['date', 'group'])\n",
    "\n",
    "# create a list with aggregated count of visitors\n",
    "visitsAggregated = datesGroups.apply(\n",
    "    lambda x: visits[\n",
    "        np.logical_and(\n",
    "            visits['date'] <= x['date'], visits['group'] == x['group']\n",
    "        )\n",
    "    ].agg({'date': 'max', 'group': 'max', 'visits': 'sum'}),\n",
    "    axis=1,\n",
    ").sort_values(by=['date', 'group'])\n",
    "\n",
    "# merge two dataframes\n",
    "cumulativeData = ordersAggregated.merge(\n",
    "    visitsAggregated, left_on=['date', 'group'], right_on=['date', 'group']\n",
    ")\n",
    "cumulativeData.columns = [\n",
    "    'date',\n",
    "    'group',\n",
    "    'orders',\n",
    "    'buyers',\n",
    "    'revenue',\n",
    "    'visits',\n",
    "]\n",
    "\n",
    "cumulativeRevenueA = (\n",
    "    cumulativeData[cumulativeData['group']=='A']\n",
    "    [['date','revenue', 'orders']]\n",
    ")\n",
    "\n",
    "cumulativeRevenueB = (\n",
    "    cumulativeData[cumulativeData['group']=='B']\n",
    "    [['date','revenue', 'orders']]\n",
    ") "
   ]
  },
  {
   "cell_type": "code",
   "execution_count": 21,
   "metadata": {
    "scrolled": false,
    "trusted": true
   },
   "outputs": [
    {
     "data": {
      "image/png": "[encoded data removed]",
      "text/plain": [
       "<Figure size 648x432 with 1 Axes>"
      ]
     },
     "metadata": {
      "needs_background": "light"
     },
     "output_type": "display_data"
    }
   ],
   "source": [
    "# visualize total income\n",
    "plt.subplots(figsize=(9, 6))\n",
    "\n",
    "plt.plot(cumulativeRevenueA['date'],\n",
    "         cumulativeRevenueA['revenue'],\n",
    "         label='A'\n",
    "        )\n",
    "\n",
    "plt.plot(cumulativeRevenueB['date'],\n",
    "         cumulativeRevenueB['revenue'],\n",
    "         label='B'\n",
    "        )\n",
    "\n",
    "plt.title('Total cumulative income by groups')\n",
    "plt.xlabel('date')\n",
    "plt.ylabel('total income ($)')\n",
    "plt.xticks(rotation=45)\n",
    "plt.legend()\n",
    "plt.show()"
   ]
  },
  {
   "cell_type": "markdown",
   "metadata": {},
   "source": [
    "During the first two weeks, the income is almost the same in the two groups, in group B it is only slightly higher.   \n",
    "But in the middle of the test in group B there is a very sharp jump. It may be associated with a local anomaly in orders, we will look at the anomalies carefully later.\n",
    "\n",
    "[Back to contents](#back)"
   ]
  },
  {
   "cell_type": "markdown",
   "metadata": {},
   "source": [
    "### Cumulative average order size by group\n",
    "<a id='average_order_size'></a>\n",
    "\n",
    "What about the average order size by group?   \n",
    "We will again look at the cumulative average."
   ]
  },
  {
   "cell_type": "code",
   "execution_count": 22,
   "metadata": {
    "scrolled": false,
    "trusted": true
   },
   "outputs": [
    {
     "data": {
      "image/png": "[encoded data removed]",
      "text/plain": [
       "<Figure size 648x432 with 1 Axes>"
      ]
     },
     "metadata": {
      "needs_background": "light"
     },
     "output_type": "display_data"
    }
   ],
   "source": [
    "# visualize cumulative average order size by group\n",
    "plt.subplots(figsize=(9, 6))\n",
    "\n",
    "plt.plot(cumulativeRevenueA['date'],\n",
    "         cumulativeRevenueA['revenue']/cumulativeRevenueA['orders'],\n",
    "         label='A'\n",
    "        )\n",
    "\n",
    "plt.plot(cumulativeRevenueB['date'],\n",
    "         cumulativeRevenueB['revenue']/cumulativeRevenueB['orders'],\n",
    "         label='B'\n",
    "        )\n",
    "\n",
    "plt.title('Cumulative average order size')\n",
    "plt.xlabel('date')\n",
    "plt.ylabel('average revenue ($)')\n",
    "plt.axhline(y=115, color='gray', linestyle='--')\n",
    "plt.axhline(y=144, color='gray', linestyle='--')\n",
    "plt.xticks(rotation=45)\n",
    "plt.legend()\n",
    "plt.show()"
   ]
  },
  {
   "cell_type": "markdown",
   "metadata": {},
   "source": [
    "The situation is similar here. It seems that the average order size in group B is higher. But due to an abnormally large order in the middle of the month, it is difficult to assess the real difference between the groups.\n",
    "\n",
    "[Back to contents](#back)"
   ]
  },
  {
   "cell_type": "markdown",
   "metadata": {},
   "source": [
    "### Relative difference in cumulative average order size\n",
    "<a id='difference_in_order_size'></a>\n",
    "\n",
    "Let us now plot the relative difference in the cumulative average order size for group B compared to group A."
   ]
  },
  {
   "cell_type": "code",
   "execution_count": 23,
   "metadata": {
    "trusted": true
   },
   "outputs": [
    {
     "data": {
      "image/png": "[encoded data removed]",
      "text/plain": [
       "<Figure size 648x432 with 1 Axes>"
      ]
     },
     "metadata": {
      "needs_background": "light"
     },
     "output_type": "display_data"
    }
   ],
   "source": [
    "# visualize relative difference in cumulative average order size\n",
    "mergedCumulativeRevenue = cumulativeRevenueA.merge(cumulativeRevenueB, left_on='date', right_on='date', how='left', suffixes=['A', 'B'])\n",
    "\n",
    "plt.subplots(figsize=(9, 6))\n",
    "\n",
    "plt.plot(mergedCumulativeRevenue['date'],\n",
    "         (mergedCumulativeRevenue['revenueB']\n",
    "         /mergedCumulativeRevenue['ordersB']\n",
    "         )/(mergedCumulativeRevenue['revenueA']\n",
    "            /mergedCumulativeRevenue['ordersA']\n",
    "           )-1\n",
    "        )\n",
    "\n",
    "plt.title('Relative difference in cumulative average order size')\n",
    "plt.xlabel('date')\n",
    "plt.ylabel('relative difference in average revenue')\n",
    "plt.axhline(y=0, color='black', linestyle='--')\n",
    "plt.axhline(y=0.27, color='gray', linestyle='--')\n",
    "plt.xticks(rotation=45)\n",
    "plt.show()"
   ]
  },
  {
   "cell_type": "markdown",
   "metadata": {},
   "source": [
    "Relative difference in cumulative average order size\n",
    "\n",
    "Let us now plot the relative difference in the cumulative average order size for group B compared to group A.\n",
    "\n",
    "By the middle of the month, there was a feeling that the schedule was gradually stabilizing, and the average order size in group B was quite a bit less than in group A. But due to the jump in group B, we cannot say anything for sure.\n",
    "\n",
    "[Back to contents](#back)"
   ]
  },
  {
   "cell_type": "markdown",
   "metadata": {},
   "source": [
    "### Conversion rate\n",
    "<a id='conversion_rate'></a>\n",
    "\n",
    "Let's calculate the conversion rate of each group as the ratio of orders per day to the number of visits, and build a visualization."
   ]
  },
  {
   "cell_type": "code",
   "execution_count": 24,
   "metadata": {
    "trusted": true
   },
   "outputs": [
    {
     "data": {
      "image/png": "[encoded data removed]",
      "text/plain": [
       "<Figure size 648x432 with 1 Axes>"
      ]
     },
     "metadata": {
      "needs_background": "light"
     },
     "output_type": "display_data"
    }
   ],
   "source": [
    "cumulativeData['conversion'] = cumulativeData['orders']/cumulativeData['visits']\n",
    "\n",
    "# selecting data on group A \n",
    "cumulativeDataA = cumulativeData[cumulativeData['group']=='A']\n",
    "\n",
    "# selecting data on group B\n",
    "cumulativeDataB = cumulativeData[cumulativeData['group']=='B']\n",
    "\n",
    "# plotting the graphs\n",
    "plt.subplots(figsize=(9, 6))\n",
    "\n",
    "plt.plot(cumulativeDataA['date'], cumulativeDataA['conversion'], label='A')\n",
    "plt.plot(cumulativeDataB['date'], cumulativeDataB['conversion'], label='B')\n",
    "plt.legend()\n",
    "\n",
    "# setting the axes' scale\n",
    "plt.axis([pd.to_datetime('2019-08-01'), pd.to_datetime('2019-08-31'), 0.023, 0.037])\n",
    "\n",
    "plt.title('Conversion rate of each group')\n",
    "plt.xlabel('date')\n",
    "plt.ylabel('conversion rate')\n",
    "plt.xticks(rotation=45)\n",
    "plt.axhline(y=0.029, color='grey', linestyle='--')\n",
    "plt.axhline(y=0.025, color='grey', linestyle='--')\n",
    "plt.show()"
   ]
  },
  {
   "cell_type": "markdown",
   "metadata": {},
   "source": [
    "Although in the first days the conversion in group A was higher, by the end of the first week the conversion became higher in group B, and this remained until the end of the test.   \n",
    "At the same time, the difference seems very small - tenths of a percent. But it's quite significant because the conversion rate for each group is less than 3 percent."
   ]
  },
  {
   "cell_type": "markdown",
   "metadata": {},
   "source": [
    "Let's also look at relative conversion."
   ]
  },
  {
   "cell_type": "code",
   "execution_count": 25,
   "metadata": {
    "trusted": true
   },
   "outputs": [
    {
     "data": {
      "image/png": "[encoded data removed]",
      "text/plain": [
       "<Figure size 648x432 with 1 Axes>"
      ]
     },
     "metadata": {
      "needs_background": "light"
     },
     "output_type": "display_data"
    }
   ],
   "source": [
    "# visualize relative difference in conversion\n",
    "mergedCumulativeConversions = cumulativeDataA[['date','conversion']].merge(cumulativeDataB[['date','conversion']], left_on='date', right_on='date', how='left', suffixes=['A', 'B'])\n",
    "\n",
    "plt.subplots(figsize=(9, 6))\n",
    "\n",
    "plt.plot(mergedCumulativeConversions['date'], mergedCumulativeConversions['conversionB']/mergedCumulativeConversions['conversionA']-1)\n",
    "\n",
    "plt.axhline(y=0, color='black', linestyle='--')\n",
    "plt.axhline(y=0.12, color='grey', linestyle='--')\n",
    "plt.axis([pd.to_datetime('2019-08-01'), pd.to_datetime('2019-08-31'), -0.27, 0.25])\n",
    "\n",
    "plt.title('Relative conversion rate of each group')\n",
    "plt.xlabel('date')\n",
    "plt.ylabel('relative conversion rate')\n",
    "plt.xticks(rotation=45)\n",
    "plt.show()"
   ]
  },
  {
   "cell_type": "markdown",
   "metadata": {},
   "source": [
    "This graph does not provide much new information, however, we are once again convinced that the conversion in group B exceeds the conversion in group A by a little more than a tenth.   \n",
    "This already seems like a pretty significant difference!\n",
    "\n",
    "[Back to contents](#back)"
   ]
  },
  {
   "cell_type": "markdown",
   "metadata": {},
   "source": [
    "### Orders per user\n",
    "<a id='orders_per_user'></a>\n",
    "\n",
    "Let's find out how many orders users made on average during the experiment."
   ]
  },
  {
   "cell_type": "code",
   "execution_count": 26,
   "metadata": {
    "trusted": true
   },
   "outputs": [
    {
     "data": {
      "image/png": "[encoded data removed]",
      "text/plain": [
       "<Figure size 648x432 with 1 Axes>"
      ]
     },
     "metadata": {
      "needs_background": "light"
     },
     "output_type": "display_data"
    }
   ],
   "source": [
    "# visualize count of orders per user\n",
    "count_of_orders = orders.groupby('visitor_id')['transaction_id'].count()\n",
    "\n",
    "plt.subplots(figsize=(9, 6))\n",
    "\n",
    "x_values = pd.Series(range(0, len(count_of_orders)))\n",
    "plt.scatter(x_values, count_of_orders)\n",
    "\n",
    "plt.title('Number of orders per user')\n",
    "plt.xlabel('index of user')\n",
    "plt.ylabel('number of orders')\n",
    "plt.yticks(ticks=[1, 2, 3])\n",
    "plt.show()"
   ]
  },
  {
   "cell_type": "markdown",
   "metadata": {},
   "source": [
    "It seems that the user usually makes one order, but sometimes 2 or 3.   \n",
    "Let's calculate the percentiles to find out more precisely."
   ]
  },
  {
   "cell_type": "code",
   "execution_count": 27,
   "metadata": {
    "trusted": true
   },
   "outputs": [
    {
     "name": "stdout",
     "output_type": "stream",
     "text": [
      "[1. 2.]\n"
     ]
    }
   ],
   "source": [
    "# calculate the 95th and 99th percentiles of orders per user\n",
    "print(np.percentile(count_of_orders, [95, 99]))"
   ]
  },
  {
   "cell_type": "markdown",
   "metadata": {},
   "source": [
    "Well, we see that less than 5 percent make a second order. That is, all users who made more than one order can be considered anomalous.\n",
    "\n",
    "What about order sizes?\n",
    "\n",
    "[Back to contents](#back)"
   ]
  },
  {
   "cell_type": "markdown",
   "metadata": {},
   "source": [
    "### Order size\n",
    "<a id='order_size'></a>\n",
    "\n",
    "Here let's determine from what amount orders should be considered abnormal."
   ]
  },
  {
   "cell_type": "code",
   "execution_count": 28,
   "metadata": {
    "trusted": true
   },
   "outputs": [
    {
     "data": {
      "image/png": "[encoded data removed]",
      "text/plain": [
       "<Figure size 864x432 with 1 Axes>"
      ]
     },
     "metadata": {
      "needs_background": "light"
     },
     "output_type": "display_data"
    }
   ],
   "source": [
    "# visualize order size\n",
    "x_values = pd.Series(range(0, len(orders['revenue'])))\n",
    "\n",
    "plt.subplots(figsize=(12, 6))\n",
    "plt.scatter(x_values, orders['revenue'])\n",
    "\n",
    "#plt.ylim((0, 1500))\n",
    "plt.title('Order size')\n",
    "plt.xlabel('index of order')\n",
    "plt.ylabel('revenue')\n",
    "plt.show()"
   ]
  },
  {
   "cell_type": "markdown",
   "metadata": {},
   "source": [
    "We don't have very many emissions, but one of them is really significant.\n",
    "\n",
    "Most of them seem to be under a thousand dollars.   \n",
    "Again, let's calculate the percentile to get more accurate data."
   ]
  },
  {
   "cell_type": "code",
   "execution_count": 29,
   "metadata": {
    "trusted": true
   },
   "outputs": [
    {
     "name": "stdout",
     "output_type": "stream",
     "text": [
      "[414.275 830.3  ]\n"
     ]
    }
   ],
   "source": [
    "# calculate the 95th and 99th percentiles of order size\n",
    "print(np.percentile(orders['revenue'], [95, 99]))"
   ]
  },
  {
   "cell_type": "markdown",
   "metadata": {},
   "source": [
    "Well, let's consider all orders over 500 dollars abnormal.   \n",
    "And now we can compare conversion and average order size for groups, taking into account outliers. Let's look at the statistical significance of the difference before and after filtering.\n",
    "\n",
    "[Back to contents](#back)"
   ]
  },
  {
   "cell_type": "markdown",
   "metadata": {},
   "source": [
    "### Difference in conversion for the raw data\n",
    "<a id='difference_in_conversion_raw'></a>\n",
    "\n",
    "To understand how different the results for the two groups really are, let's determine the statistical significance of the difference in conversion between the groups.   \n",
    "That is, we will check whether the hypothesis is true that the difference in conversion for groups A and B is **not** statistically significant.   \n",
    "If the resulting `p` value is greater than the cut-off value of 0.05, we will consider the hypothesis to be true.\n",
    "Let's start with the raw data."
   ]
  },
  {
   "cell_type": "code",
   "execution_count": 30,
   "metadata": {
    "trusted": true
   },
   "outputs": [
    {
     "name": "stdout",
     "output_type": "stream",
     "text": [
      "Statistical significance of the difference in conversion: 0.01102\n",
      "Difference in average conversion values by group: 0.160\n"
     ]
    }
   ],
   "source": [
    "# calculate statistical significance of the difference in conversion for the raw data\n",
    "ordersByUsersA = (\n",
    "    orders[orders['group']=='A']\n",
    "    .groupby('visitor_id', as_index=False)\n",
    "    .agg({'transaction_id' : pd.Series.nunique})\n",
    ")\n",
    "ordersByUsersA.columns = ['visitor_id', 'orders']\n",
    "\n",
    "ordersByUsersB = (\n",
    "    orders[orders['group']=='B']\n",
    "    .groupby('visitor_id', as_index=False)\n",
    "    .agg({'transaction_id' : pd.Series.nunique}))\n",
    "ordersByUsersB.columns = ['visitor_id', 'orders']\n",
    "\n",
    "sampleA = (\n",
    "    pd.concat([ordersByUsersA['orders'],\n",
    "               pd.Series(\n",
    "                   0, \n",
    "                   index=np.arange(\n",
    "                       visits[visits['group']=='A']['visits'].sum() \n",
    "                       - len(ordersByUsersA['orders'])), \n",
    "                   name='orders')],\n",
    "              axis=0)\n",
    ")\n",
    "\n",
    "sampleB = (\n",
    "    pd.concat([ordersByUsersB['orders'],\n",
    "               pd.Series(\n",
    "                   0,\n",
    "                   index=np.arange(\n",
    "                       visits[visits['group']=='B']['visits'].sum()\n",
    "                       - len(ordersByUsersB['orders'])),\n",
    "                   name='orders')],\n",
    "              axis=0)\n",
    ")\n",
    "\n",
    "print('Statistical significance of the difference in conversion:', \"{0:.5f}\".format(stats.mannwhitneyu(sampleA, sampleB)[1]))\n",
    "\n",
    "print('Difference in average conversion values by group:', \"{0:.3f}\".format(sampleB.mean()/sampleA.mean()-1))"
   ]
  },
  {
   "cell_type": "markdown",
   "metadata": {},
   "source": [
    "We got a p-value of 0.01, which tells us that there is a statistically significant difference in conversion.\n",
    "That is, we can reject the null hypothesis that there is no statistically significant difference in conversion between groups.\n",
    "In addition, the relative difference is quite noticeable: for group B, the average conversion is a whopping 16% higher (second line of output).\n",
    "\n",
    "[Back to contents](#back)"
   ]
  },
  {
   "cell_type": "markdown",
   "metadata": {},
   "source": [
    "### Difference in orders for the raw data\n",
    "<a id='difference_in_orders_raw'></a>\n",
    "\n",
    "Now let's determine the statistical significance of the difference in average order size between groups.   \n",
    "We'll start again with the raw data.   \n",
    "If the `p` value is greater than the cut-off value of 0.05, we will consider the hypothesis to be true. That is, that there is **no** statistical significance between groups in average order size."
   ]
  },
  {
   "cell_type": "code",
   "execution_count": 31,
   "metadata": {
    "trusted": true
   },
   "outputs": [
    {
     "name": "stdout",
     "output_type": "stream",
     "text": [
      "Statistical significance of the difference in order size: 0.862\n",
      "Difference in average order size by group: 0.278\n"
     ]
    }
   ],
   "source": [
    "# calculate statistical significance of the difference in order size for the raw data\n",
    "print('Statistical significance of the difference in order size:', '{0:.3f}'.format(\n",
    "          stats.mannwhitneyu(orders[orders['group']=='A']['revenue'],\n",
    "                             orders[orders['group']=='B']['revenue']\n",
    "                            )[1])\n",
    "     )\n",
    "\n",
    "print('Difference in average order size by group:', '{0:.3f}'.format(\n",
    "    orders[orders['group']=='B']['revenue'].mean()\n",
    "    /orders[orders['group']=='A']['revenue'].mean()\n",
    "    -1)\n",
    "     )"
   ]
  },
  {
   "cell_type": "markdown",
   "metadata": {},
   "source": [
    "P-value 0.862 higher than 0.05, so there is no reason to reject the null hypothesis and conclude that the average order size differs between groups.   \n",
    "Moreover, the average order size for group B is much bigger than for group A. This difference appears to be due to outliers. We'll soon look at the results for the filtered data and see if this is true.\n",
    "\n",
    "Let's recall the order quantity and average order size percentiles that we found earlier and look at the statistical difference for the filtered data.\n",
    "\n",
    "[Back to contents](#back)"
   ]
  },
  {
   "cell_type": "markdown",
   "metadata": {},
   "source": [
    "### Difference in conversion for the filtered data\n",
    "<a id='difference_in_conversion_filtered'></a>\n",
    "\n",
    "Okay, we've sorted out the initial data.\n",
    "Now let’s filter out abnormal orders and look again at the statistical significance of the difference in conversion.\n",
    "\n",
    "Recall that we are testing the validity of the hypothesis that the difference in conversion for groups A and B is **not** statistically significant."
   ]
  },
  {
   "cell_type": "code",
   "execution_count": 32,
   "metadata": {
    "trusted": true
   },
   "outputs": [],
   "source": [
    "# calculate statistical significance of the difference in conversion for the filtered data\n",
    "usersWithManyOrders = (\n",
    "    pd.concat(\n",
    "        [ordersByUsersA[ordersByUsersA['orders'] >= 2]['visitor_id'], \n",
    "         ordersByUsersB[ordersByUsersB['orders'] >= 2]['visitor_id']\n",
    "        ], \n",
    "        axis = 0)\n",
    ")\n",
    "usersWithExpensiveOrders = orders[orders['revenue'] > 800]['visitor_id']\n",
    "\n",
    "abnormalUsers = (\n",
    "    pd.concat(\n",
    "        [usersWithManyOrders, usersWithExpensiveOrders], \n",
    "        axis = 0)\n",
    "    .drop_duplicates()\n",
    "    .sort_values()\n",
    ")\n",
    "\n",
    "sampleAFiltered = (\n",
    "    pd.concat(\n",
    "        [ordersByUsersA[\n",
    "            np.logical_not(ordersByUsersA['visitor_id']\n",
    "                           .isin(abnormalUsers))]['orders'],\n",
    "         pd.Series(0,\n",
    "                   index=np.arange(\n",
    "                       visits[visits['group']=='A']['visits'].sum() \n",
    "                       - len(ordersByUsersA['orders'])),name='orders')],\n",
    "        axis=0)\n",
    ")\n",
    "\n",
    "sampleBFiltered = (\n",
    "    pd.concat(\n",
    "        [ordersByUsersB[\n",
    "            np.logical_not(ordersByUsersB['visitor_id']\n",
    "                           .isin(abnormalUsers))]['orders'],\n",
    "         pd.Series(0,\n",
    "                   index=np.arange(\n",
    "                       visits[visits['group']=='B']['visits'].sum() \n",
    "                       - len(ordersByUsersB['orders'])),name='orders')],\n",
    "        axis=0)\n",
    ")"
   ]
  },
  {
   "cell_type": "code",
   "execution_count": 33,
   "metadata": {
    "trusted": true
   },
   "outputs": [
    {
     "name": "stdout",
     "output_type": "stream",
     "text": [
      "Statistical significance of the difference in conversion: 0.00728\n",
      "Difference in average conversion values by group: 0.191\n"
     ]
    }
   ],
   "source": [
    "# calculate statistical significance of the difference in order size for the filtered data\n",
    "print('Statistical significance of the difference in conversion:', \"{0:.5f}\".format(\n",
    "    stats.mannwhitneyu(sampleAFiltered,\n",
    "                       sampleBFiltered)[1])\n",
    "     )\n",
    "\n",
    "print('Difference in average conversion values by group:', \"{0:.3f}\".format(\n",
    "    sampleBFiltered.mean()\n",
    "    /sampleAFiltered.mean()\n",
    "    -1)\n",
    "     )"
   ]
  },
  {
   "cell_type": "markdown",
   "metadata": {},
   "source": [
    "Look, the results for the filtered data are even more revealing.   \n",
    "The p value just got smaller. That is, we still reject the null hypothesis. That is, there is a statistically significant difference.   \n",
    "At the same time, the relative conversion rate increased from 16 to 19 percent.\n",
    "\n",
    "\n",
    "[Back to contents](#back)"
   ]
  },
  {
   "cell_type": "markdown",
   "metadata": {},
   "source": [
    "### Difference in orders for the filtered data\n",
    "<a id='difference_in_orders_filtered'></a>\n",
    "\n",
    "Finally, let's determine the statistical significance of the difference in average order size for the filtered data.\n",
    "\n",
    "This time we are testing the hypothesis that there is **no** statistical significance between groups in average order size."
   ]
  },
  {
   "cell_type": "code",
   "execution_count": 34,
   "metadata": {
    "trusted": true
   },
   "outputs": [
    {
     "name": "stdout",
     "output_type": "stream",
     "text": [
      "Statistical significance of the difference in conversion: 0.921\n",
      "Difference in average conversion values by group: 0.026\n"
     ]
    }
   ],
   "source": [
    "print('Statistical significance of the difference in conversion:', \n",
    "    '{0:.3f}'\n",
    "    .format(stats.mannwhitneyu(\n",
    "    orders[\n",
    "        np.logical_and(\n",
    "            orders['group']=='A',\n",
    "            np.logical_not(\n",
    "                orders['visitor_id']\n",
    "                .isin(abnormalUsers)\n",
    "            )\n",
    "        )]['revenue'],\n",
    "    orders[np.logical_and(\n",
    "        orders['group']=='B',\n",
    "        np.logical_not(\n",
    "            orders['visitor_id']\n",
    "            .isin(abnormalUsers)\n",
    "        )\n",
    "    )]['revenue'])[1])\n",
    ")\n",
    "\n",
    "print('Difference in average conversion values by group:', \n",
    "    '{0:.3f}'\n",
    "    .format(\n",
    "        orders[np.logical_and(\n",
    "            orders['group']=='B',\n",
    "            np.logical_not(orders['visitor_id'].isin(abnormalUsers))\n",
    "        )]['revenue']\n",
    "        .mean()\n",
    "        / orders[np.logical_and(\n",
    "            orders['group']=='A',\n",
    "            np.logical_not(\n",
    "                orders['visitor_id']\n",
    "                .isin(abnormalUsers)\n",
    "            )\n",
    "        )]['revenue']\n",
    "        .mean() - 1)\n",
    ")\n",
    "\n"
   ]
  },
  {
   "cell_type": "markdown",
   "metadata": {},
   "source": [
    "For the average order size, the results changed more.   \n",
    "The p value is still higher than `0,05` and there is no reason to reject the null hypothesis.   \n",
    "However, the average order size appears to be almost the same for the two groups after filtering out the anomalies. Look: only 2.6% instead of 28 for unfiltered data! This is an impressive result.\n",
    "\n",
    "[Back to contents](#back)"
   ]
  },
  {
   "cell_type": "markdown",
   "metadata": {},
   "source": [
    "## Сonclusions\n",
    "<a id='conclusions'></a>\n",
    "\n",
    "So, our research is completed.\n",
    "\n",
    "1. We sorted the hypotheses using the `ICE` and `RICE` methods.\n",
    "2. We chose the leading hypothesis from the `RICE` method for analysis, since it affects significantly more users and therefore may be more useful for the company.\n",
    "Hypothesis №7 chosen for analysis:   \n",
    "**Add a subscription form to all the main pages. This will help you compile a mailing list.**\n",
    "3. Visualized `Total income`, `Cumulative average order size`, `Relative difference in order size`, and `Conversion rate`.\n",
    "From the resulting graphs we see that:\n",
    "* by the end of the experiment, all average indicators behave normally,\n",
    "* all indicators for group B are better than for group A (conversion, average order size and overall profit are higher),\n",
    "* but there are sharp jumps, most likely this means that there are anomalous orders that may affect the results of the study.\n",
    "4. We identified anomalies in order size and quantity to assess the impact of outliers.\n",
    "5. Finally, we determined the statistical significance of the difference for conversion and order size in the unfiltered and filtered data.\n",
    "\n",
    "**Conclusions.**\n",
    "\n",
    "The experiment should be stopped and Group B should be considered the leader.   \n",
    "Despite the fact that the average order size is almost the same for both groups (the reason for the initial difference was abnormally large orders), the conversion in group B is significantly higher, that is, site visitors in group B actually place orders more often.   \n",
    "Hypothesis №7 turned out to be successful. The new email settings really increased conversions.\n",
    "\n",
    "[Back to Contents](#back)"
   ]
  }
 ],
 "metadata": {
  "kernelspec": {
   "display_name": "Python 3 (ipykernel)",
   "language": "python",
   "name": "python3"
  },
  "language_info": {
   "codemirror_mode": {
    "name": "ipython",
    "version": 3
   },
   "file_extension": ".py",
   "mimetype": "text/x-python",
   "name": "python",
   "nbconvert_exporter": "python",
   "pygments_lexer": "ipython3",
   "version": "3.9.5"
  },
  "toc": {
   "base_numbering": 1,
   "nav_menu": {},
   "number_sections": true,
   "sideBar": true,
   "skip_h1_title": true,
   "title_cell": "Table of Contents",
   "title_sidebar": "Contents",
   "toc_cell": false,
   "toc_position": {},
   "toc_section_display": true,
   "toc_window_display": false
  }
 },
 "nbformat": 4,
 "nbformat_minor": 2
}
